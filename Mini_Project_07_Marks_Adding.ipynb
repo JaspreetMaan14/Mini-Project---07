{
  "nbformat": 4,
  "nbformat_minor": 0,
  "metadata": {
    "colab": {
      "provenance": [],
      "authorship_tag": "ABX9TyPcTR+e95ans4Pub/yGCCpz",
      "include_colab_link": true
    },
    "kernelspec": {
      "name": "python3",
      "display_name": "Python 3"
    },
    "language_info": {
      "name": "python"
    }
  },
  "cells": [
    {
      "cell_type": "markdown",
      "metadata": {
        "id": "view-in-github",
        "colab_type": "text"
      },
      "source": [
        "<a href=\"https://colab.research.google.com/github/JaspreetMaan14/Mini-Project---07/blob/main/Mini_Project_07_Marks_Adding.ipynb\" target=\"_parent\"><img src=\"https://colab.research.google.com/assets/colab-badge.svg\" alt=\"Open In Colab\"/></a>"
      ]
    },
    {
      "cell_type": "markdown",
      "source": [
        "#**MARKS ADDING PROJECT**"
      ],
      "metadata": {
        "id": "q3xeaHqGDSfS"
      }
    },
    {
      "cell_type": "code",
      "execution_count": 2,
      "metadata": {
        "colab": {
          "base_uri": "https://localhost:8080/"
        },
        "id": "Tbv52qarBBdr",
        "outputId": "f4211928-abcb-478c-8724-397170ebe4fb"
      },
      "outputs": [
        {
          "output_type": "stream",
          "name": "stdout",
          "text": [
            "      Roll Num  Marks\n",
            "0    102003001      3\n",
            "1    102003002      5\n",
            "2    102003017      5\n",
            "3    102003018      5\n",
            "4    102003029      5\n",
            "..         ...    ...\n",
            "395  102196010      4\n",
            "396  102197016      5\n",
            "397  102197018      4\n",
            "398  102197019      5\n",
            "399  102197021      5\n",
            "\n",
            "[400 rows x 2 columns]\n"
          ]
        }
      ],
      "source": [
        "import pandas as pd\n",
        "\n",
        "# Load the CSV file\n",
        "df = pd.read_csv('/content/Mini Project - Marks Adding.csv')\n",
        "\n",
        "# Group by 'Roll Num' and sum the 'Marks'\n",
        "output_df = df.groupby('Roll Num', as_index=False)['Marks'].sum()\n",
        "\n",
        "# Optional: sort by Roll Num\n",
        "output_df.sort_values(by='Roll Num', inplace=True)\n",
        "output_df.reset_index(drop=True, inplace=True)\n",
        "\n",
        "print(output_df)\n"
      ]
    }
  ]
}